{
 "cells": [
  {
   "cell_type": "markdown",
   "metadata": {
    "deletable": false,
    "editable": false,
    "nbgrader": {
     "cell_type": "markdown",
     "checksum": "eb508a3db9aa49a5a90ed84c43a3db9d",
     "grade": false,
     "grade_id": "cell-894b44f6e4aa6d89",
     "locked": true,
     "schema_version": 3,
     "solution": false,
     "task": false
    }
   },
   "source": [
    "## 1) List TEN things you learned during Weeks 1 and 2 and FIVE things you still don't understand or are curious and would like to learn about."
   ]
  },
  {
   "cell_type": "markdown",
   "metadata": {
    "deletable": false,
    "nbgrader": {
     "cell_type": "markdown",
     "checksum": "674a04c7b9ac8bbe1af73ec37ad0d3c5",
     "grade": true,
     "grade_id": "cell-2b7b7a3717ed7c28",
     "locked": false,
     "points": 2,
     "schema_version": 3,
     "solution": true,
     "task": false
    }
   },
   "source": [
    "- ### *Things I have learned* \n",
    "\n",
    "1. The first thing was jupyter notebook had no idea what it was before\n",
    "2. Headers and listing in markdown\n",
    "3. writing down math formulas in markdown just like latex like formulas go between dollar signs\n",
    "4. \\n in python means new line ( I have been always struggling with this one)\n",
    "5. Writing down math formulas in python an importing the needed things such as numpy \n",
    "6. Plotting figures and adding labels to the plots in python\n",
    "7. sub plots that I had no idea before and was the most interesting thing for me\n",
    "8. Using for loops to write down loops for things that we know the range\n",
    "9. Using while loops for things we do not know the range \n",
    "10. Index in python is 0 (I mean starts from 0)\n",
    "\n",
    "- ### *Things that I am still struggling with*\n",
    "1. I still do not know how to import pictures or figures in my markdown\n",
    "2. When I define formulas in my codes and I want to return the defined word formula it gives me errors but when I am returning the actual formula it is fine. ( I mean let's say formula= $n^2-1$ when i return forumla it gives me error but when i  return the $n^2-1$ it is fine. I still do not get the difference.\n",
    "3. I am so confused with plotting different lines mentioned in the video for 'Program F: Generate a random number sampled from the Normal Gaussian Distribution' ."
   ]
  },
  {
   "cell_type": "markdown",
   "metadata": {
    "deletable": false,
    "editable": false,
    "nbgrader": {
     "cell_type": "markdown",
     "checksum": "f5a4e240a74d78afb335b8264b09f66f",
     "grade": false,
     "grade_id": "cell-f8652ead18e4e4b4",
     "locked": true,
     "schema_version": 3,
     "solution": false,
     "task": false
    }
   },
   "source": [
    "## 2) Answer the following (cite your references).\n",
    "\n",
    "1.  What is a transistor? Why is it important for building and enhancing\n",
    "    computers?\n",
    "\n",
    "2.  How small is the smallest transistor ever invented?\n",
    "\n",
    "3.  What is a semiconductor? Why is it important for building and\n",
    "    enhancing computers?\n",
    "\n",
    "4.  Why was the development of the RAM revolutionary for the development\n",
    "    of the modern computer?\n",
    "\n",
    "5.  Why is there now so much research about quantum computing?"
   ]
  },
  {
   "cell_type": "markdown",
   "metadata": {
    "deletable": false,
    "nbgrader": {
     "cell_type": "markdown",
     "checksum": "1dd38b104ad5febe74015c3bd45824f9",
     "grade": true,
     "grade_id": "cell-b0950da5a192e035",
     "locked": false,
     "points": 3,
     "schema_version": 3,
     "solution": true,
     "task": false
    }
   },
   "source": [
    "1. A transistor is a miniature semiconductor that regulates or controls current or voltage flow in addition amplifying and generating these electrical signals and acting as a switch/gate for them. Typically, transistors consist of three layers, or terminals, of a semiconductor material, each of which can carry a current.\n",
    "The reason that transitors are so important is because on its own, a transistor has only one circuit element. In small quantities, transistors are used to create simple electronic switches. They are the basic elements in integrated circuits (ICs), which consist of a large number of transistors interconnected with circuitry and baked into a single silicon microchip.\n",
    "[test](https://www.techtarget.com/whatis/definition/transistor#:~:text=A%20transistor%20can%20act%20as,comprise%20all%20modern%20telecommunications%20systems)\n",
    "\n",
    "2. 'In 2021, a different group reported a vertical transistor made using molybdenum disulfide with a gate length of 0.65 nm in its on state'.\n",
    "[test](https://spectrum.ieee.org/smallest-transistor-one-carbon-atom)\n",
    "3.A semiconductor substance lies between the conductor and insulator. It controls and manages the flow of electric current in electronic equipment and devices. As a result, it is a popular component of electronic chips made for computing components and a variety of electronic devices, including solid-state storage.\n",
    "[test](https://www.techtarget.com/whatis/definition/semiconductor#:~:text=A%20semiconductor%20substance%20lies%20between,%2C%20including%20solid%2Dstate%20storage).\n",
    "So what makes semiconductors so valuable? At the base level, semiconductors are made up of specific elements such as silicon or chemical compounds like gallium arsenide. Although they are not as conductive as materials like copper, their versatility is what makes them so important to modern electronics. The atomic structure of a semiconductor allows electric currents to alter their conductivity which is important when specific outcomes are desired or when different conductivity levels are needed depending on the situation. Due to their versatility, engineers are able to use semiconductors to create single semiconductor chips with hundreds of millions, if not billions, of transistors, exponentially increasing processing power while remaining compact.\n",
    "[test](https://screenrant.com/semiconductors-meaning-electronics-importance-explained/)\n",
    "\n",
    "4. First we start by defining what RAM actually is. 'RAM is a form of temporary storage that gets wiped when you turn your computer off'.Now why do we care a lot about RAM and why it is so important for computers? Because'Without your computer being able to store and access data quickly, none of your apps or other processes would work. RAM is used for immediate data storage and retrieval — any task that requires quick access to computing resources'.\n",
    "[test](https://www.avast.com/c-what-is-ram-memory)\n",
    "\n",
    "5. Because 'Quantum computers have the potential to revolutionize computation by making certain types of classically intractable problems solvable. While no quantum computer is yet sophisticated enough to carry out calculations that a classical computer can't, great progress is under way'. Moreover, The promise of developing a quantum computer sophisticated enough to execute Shor's algorithm for large numbers has been a primary motivator for advancing the field of quantum computation. To develop a broader view of quantum computers, however, it is important to understand that they will likely deliver tremendous speed-ups for only specific types of problems. Researchers are working to both understand which problems are suited for quantum speed-ups and develop algorithms to demonstrate them. In general, it is believed that quantum computers will help immensely with problems related to optimization, which play key roles in everything from defense to financial trading.\n",
    "[test](https://www.ncbi.nlm.nih.gov/books/NBK538701/) "
   ]
  },
  {
   "cell_type": "markdown",
   "metadata": {
    "deletable": false,
    "editable": false,
    "nbgrader": {
     "cell_type": "markdown",
     "checksum": "e1f4bff982518f43deffd77da0d2f98f",
     "grade": false,
     "grade_id": "cell-e7685bfd97b1fa0d",
     "locked": true,
     "schema_version": 3,
     "solution": false,
     "task": false
    }
   },
   "source": [
    "# 3) Calculate the following sum analytically $\\sum_{k=6}^{50}k^2$."
   ]
  },
  {
   "cell_type": "markdown",
   "metadata": {
    "deletable": false,
    "nbgrader": {
     "cell_type": "markdown",
     "checksum": "640c9ff9bb9fef172896282cfd741373",
     "grade": true,
     "grade_id": "cell-6ddaee207af6ebab",
     "locked": false,
     "points": 0,
     "schema_version": 3,
     "solution": true,
     "task": false
    }
   },
   "source": [
    "We know that the formula for this kind of a problem is $\\sum_{i=1}^n i^2= \\frac{n(n+1)(2n+1)}{6}$\n",
    "\n",
    "But thsi formula start from $i=1$ however our problem starts from $k=6$. So what we can do is to find $1$ to $50$ and $1$ to $5$ and get the difference so\n",
    "\n",
    "$\\frac{50(51)(2(50)+1)}{6}=42925$ and $\\frac{5(6)(2(5)+1)}{6}=55$\n",
    "\n",
    "Therefore  $\\sum_{k=6}^{50}k^2= 42925-55= 42870$"
   ]
  },
  {
   "cell_type": "markdown",
   "metadata": {
    "deletable": false,
    "editable": false,
    "nbgrader": {
     "cell_type": "markdown",
     "checksum": "9005c1396d19a117483411b931607f19",
     "grade": false,
     "grade_id": "cell-ecc04f9ad599a9e7",
     "locked": true,
     "schema_version": 3,
     "solution": false,
     "task": false
    }
   },
   "source": [
    "## 4) Programming: Write a program that lists all the multiples of 15 greater than −200 and strictly less than 2000."
   ]
  },
  {
   "cell_type": "code",
   "execution_count": 10,
   "metadata": {
    "deletable": false,
    "nbgrader": {
     "cell_type": "code",
     "checksum": "9fd756ed357fee4846cabea0de3c8dcb",
     "grade": true,
     "grade_id": "cell-640c6f13e30f6fbb",
     "locked": false,
     "points": 0,
     "schema_version": 3,
     "solution": true,
     "task": false
    }
   },
   "outputs": [
    {
     "name": "stdout",
     "output_type": "stream",
     "text": [
      "Multiples of 15 greater than -200 and less than 2000 are:\n",
      " [-195, -180, -165, -150, -135, -120, -105, -90, -75, -60, -45, -30, -15, 0, 15, 30, 45, 60, 75, 90, 105, 120, 135, 150, 165, 180, 195, 210, 225, 240, 255, 270, 285, 300, 315, 330, 345, 360, 375, 390, 405, 420, 435, 450, 465, 480, 495, 510, 525, 540, 555, 570, 585, 600, 615, 630, 645, 660, 675, 690, 705, 720, 735, 750, 765, 780, 795, 810, 825, 840, 855, 870, 885, 900, 915, 930, 945, 960, 975, 990, 1005, 1020, 1035, 1050, 1065, 1080, 1095, 1110, 1125, 1140, 1155, 1170, 1185, 1200, 1215, 1230, 1245, 1260, 1275, 1290, 1305, 1320, 1335, 1350, 1365, 1380, 1395, 1410, 1425, 1440, 1455, 1470, 1485, 1500, 1515, 1530, 1545, 1560, 1575, 1590, 1605, 1620, 1635, 1650, 1665, 1680, 1695, 1710, 1725, 1740, 1755, 1770, 1785, 1800, 1815, 1830, 1845, 1860, 1875, 1890, 1905, 1920, 1935, 1950, 1965, 1980, 1995]\n"
     ]
    }
   ],
   "source": [
    "# YOUR CODE HERE\n",
    "import numpy as np\n",
    "#initiate empty list\n",
    "list=[]\n",
    "for i in range(-195,2000,15):\n",
    "    list.append(i)\n",
    "print('Multiples of 15 greater than -200 and less than 2000 are:\\n',list)\n"
   ]
  },
  {
   "cell_type": "markdown",
   "metadata": {
    "deletable": false,
    "editable": false,
    "nbgrader": {
     "cell_type": "markdown",
     "checksum": "6c090de0dbab0c06dcf6291879e509ec",
     "grade": false,
     "grade_id": "cell-b357592096b88921",
     "locked": true,
     "schema_version": 3,
     "solution": false,
     "task": false
    }
   },
   "source": [
    "## 􏰀5) Programming: Write a program that calculates the sum\n",
    "$$\\sum_{k=-100}^{75}\\frac{k^3-2k}{k^2+2}$$\n",
    "## Can this sum be computed analytically?"
   ]
  },
  {
   "cell_type": "code",
   "execution_count": 21,
   "metadata": {
    "deletable": false,
    "nbgrader": {
     "cell_type": "code",
     "checksum": "7f19606987e40fd6eb0b0cfb9c5445de",
     "grade": true,
     "grade_id": "cell-294356bd9b3e974b",
     "locked": false,
     "points": 0,
     "schema_version": 3,
     "solution": true,
     "task": false
    }
   },
   "outputs": [
    {
     "name": "stdout",
     "output_type": "stream",
     "text": [
      "-2198.856218040634\n"
     ]
    }
   ],
   "source": [
    "# YOUR CODE HERE\n",
    "\n",
    "sum=0\n",
    "for k in range (-100,76,1):\n",
    "    sum=sum+(k**3-2*k)/(k**2+2)\n",
    "    \n",
    "print(sum)\n",
    "\n",
    "#No we can not compute this analytically because of the starting and the ending points it is so crazy that doing these\n",
    "#summations analytically"
   ]
  },
  {
   "cell_type": "markdown",
   "metadata": {
    "deletable": false,
    "editable": false,
    "nbgrader": {
     "cell_type": "markdown",
     "checksum": "ac42e04c12e20624d0b5852df5bf4bf6",
     "grade": false,
     "grade_id": "cell-66c1f9def8fc5cb5",
     "locked": true,
     "schema_version": 3,
     "solution": false,
     "task": false
    }
   },
   "source": [
    "## 6) Programming: Write a program that determines whether the sequence \n",
    "$$a_n=\\frac{(\\cos(n))^2}{2^n}$$\n",
    "## converges or diverges. Make two subplots showing the convergence of the sequence, one subplot showing the sequence as a function of n, and the other plotting the sequence on the number line. Label the axes and title your subplots. \n",
    "\n",
    "## What is the limit of this sequence?"
   ]
  },
  {
   "cell_type": "code",
   "execution_count": 24,
   "metadata": {
    "deletable": false,
    "nbgrader": {
     "cell_type": "code",
     "checksum": "ccc69d797893c2e8f3a88893030af799",
     "grade": true,
     "grade_id": "cell-17b78fde82a13eb6",
     "locked": false,
     "points": 0,
     "schema_version": 3,
     "solution": true,
     "task": false
    }
   },
   "outputs": [
    {
     "name": "stdout",
     "output_type": "stream",
     "text": [
      "The numerical (not the analytical) limit is: -3.8964374976316146e-10\n"
     ]
    },
    {
     "data": {
      "image/png": "[encoded data removed]",
      "text/plain": [
       "<Figure size 1500x500 with 2 Axes>"
      ]
     },
     "metadata": {},
     "output_type": "display_data"
    }
   ],
   "source": [
    "# YOUR CODE HERE\n",
    "\n",
    "import math\n",
    "import matplotlib.pyplot as plt\n",
    "import numpy as np\n",
    "\n",
    "# write a function for the formula\n",
    "def a(n):\n",
    "    return ((math.cos(n))**2)/(2**n)\n",
    "\n",
    "list=[]\n",
    "for n in np.arange(1,32,2):\n",
    "     list.append(a(n))\n",
    "\n",
    "fig,subs=plt.subplots(1,2,figsize=(15,5))\n",
    "subs[0].plot(list,'ko')\n",
    "subs[0].set_xlabel('n', fontsize=13)\n",
    "subs[0].set_ylabel('a(n)', fontsize=13)\n",
    "subs[0].set_title('Sequence plotted as a function of n',fontsize=13)\n",
    "\n",
    "subs[1].plot(list,np.zeros(len(list),),'ko')\n",
    "subs[1].set_xlabel('a(n)', fontsize=13)\n",
    "subs[1].set_ylabel('y', fontsize=13)\n",
    "subs[1].set_title('Sequence plotted on the number line',fontsize=13)\n",
    "subs[1].grid()\n",
    "\n",
    "\n",
    "#print('The length of the list containing the members of the sequence is:',len(list))\n",
    "print('The numerical (not the analytical) limit is:',list[len(list)-1])\n"
   ]
  },
  {
   "cell_type": "code",
   "execution_count": null,
   "metadata": {},
   "outputs": [],
   "source": []
  },
  {
   "cell_type": "code",
   "execution_count": null,
   "metadata": {},
   "outputs": [],
   "source": []
  }
 ],
 "metadata": {
  "kernelspec": {
   "display_name": "Python 3 (ipykernel)",
   "language": "python",
   "name": "python3"
  },
  "language_info": {
   "codemirror_mode": {
    "name": "ipython",
    "version": 3
   },
   "file_extension": ".py",
   "mimetype": "text/x-python",
   "name": "python",
   "nbconvert_exporter": "python",
   "pygments_lexer": "ipython3",
   "version": "3.9.13"
  }
 },
 "nbformat": 4,
 "nbformat_minor": 4
}
