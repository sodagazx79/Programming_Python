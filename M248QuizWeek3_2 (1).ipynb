{
 "cells": [
  {
   "cell_type": "markdown",
   "metadata": {
    "deletable": false,
    "editable": false,
    "nbgrader": {
     "cell_type": "markdown",
     "checksum": "3ae60d8488a454d89353db8bd2071250",
     "grade": false,
     "grade_id": "cell-cabdf5cea7b136be",
     "locked": true,
     "schema_version": 3,
     "solution": false,
     "task": false
    }
   },
   "source": [
    "## 1) List TEN things you learned during Weeks 1 and 2 and FIVE things you still don't understand or are curious and would like to learn about."
   ]
  },
  {
   "cell_type": "markdown",
   "metadata": {
    "deletable": false,
    "nbgrader": {
     "cell_type": "markdown",
     "checksum": "faee3e76a259f593a478873edcec0aad",
     "grade": true,
     "grade_id": "cell-366439092328d2bb",
     "locked": false,
     "points": 0,
     "schema_version": 3,
     "solution": true,
     "task": false
    }
   },
   "source": [
    "YOUR ANSWER HERE\n",
    "\n",
    "- ### *Things I have learned* \n",
    "\n",
    "1. How to plot surfaces and contours in 3 dimensioal space\n",
    "2. I have learned more about guassian distribution which is basically the normal distribution\n",
    "3. How to generate sample points from a multivariatenormal distribution\n",
    "4. How to make a matrix in python\n",
    "5. What the Einstein sum is and what it actually does\n",
    "6. How to make histograms fir different atribute of a class\n",
    "7. How to convert categorical data into the numerical data\n",
    "8. Craeting a data frame with so much information and put in a table\n",
    "9. I learned the difference between dictionaries and classes and how to convert classes into the dictionaries\n",
    "10. How to stack X and Y into a single 3-dimensional array\n",
    "\n",
    "- ### *Things that I am still struggling with or like to learn*\n",
    "1. I would like to learn how to start my classes from index 1, instead of zero in the data frame\n",
    "2. When we do ordering and converting categorical to numerical how do we code to get our variables from the smallest to the largest? I mean ascending and decending ordering in pythonn how does that work?\n",
    "3. I do not get the difference between when we put numbers in quotations marks and when we do not in defining classes\n",
    "4. I am still confused by how do we get the values of covariance matrix in guassian bivariate distribution? is it just some numbers that we made up or lik do they have any specific meaning?\n",
    "5. what does np.linalg.inv actually do?"
   ]
  },
  {
   "cell_type": "markdown",
   "metadata": {
    "deletable": false,
    "editable": false,
    "nbgrader": {
     "cell_type": "markdown",
     "checksum": "4589e6b9f93156eb4a7e7e00278dfaf3",
     "grade": false,
     "grade_id": "cell-04d8eda4f953fdd1",
     "locked": true,
     "schema_version": 3,
     "solution": false,
     "task": false
    }
   },
   "source": [
    "# Fibonacci Numbers\n",
    "- What are Fibonacci numbers?\n",
    "- Give examples supporting the statement *Fibonacci numbers are abundant in nature*. \n",
    "- Write a program that outputs a vector containing the first 40 Fibonacci numbers $$F_{n+2}=F_n+F_{n+1}, F_1=0, F_2=1.$$\n",
    "- What is the Golden ratio?\n",
    "- What's the relationship between the Golden Ratio and Fibonacci numbers.\n",
    "- Write a program that outputs a sequence converging to the Golden Ratio.\n",
    "- Is there an explicit formula for the Fibonacci sequence? ($a_n=f(n)$)"
   ]
  },
  {
   "cell_type": "markdown",
   "metadata": {
    "deletable": false,
    "nbgrader": {
     "cell_type": "markdown",
     "checksum": "4144b895ed39f4714763831e2fa857b5",
     "grade": true,
     "grade_id": "cell-301f4a75dcca88b2",
     "locked": false,
     "points": 0,
     "schema_version": 3,
     "solution": true,
     "task": false
    }
   },
   "source": [
    "- Fibonacci numbers form a sequence of numbers where every number is the sum of the preceding two numbers. It starts from 0 and 1 as the first two numbers. \n",
    "[test](https://www.cuemath.com/algebra/fibonacci-numbers/)\n",
    "- On many plants, the number of petals is a Fibonacci number:buttercups have 5 petals; lilies and iris have 3 petals; some delphiniums have 8; corn marigolds have 13 petals; some asters have 21 whereas daisies can be found with 34, 55 or even 89 petals.\n",
    "[test](https://r-knott.surrey.ac.uk/Fibonacci/fibnat.html#:~:text=On%20many%20plants%2C%20the%20number,55%20or%20even%2089%20petals.)\n",
    "- The golden ratio, also known as the golden number, golden proportion, or the divine proportion, is a ratio between two numbers that equals approximately 1.618. Usually written as the Greek letter phi.\n",
    "[test](https://www.adobe.com/creativecloud/design/discover/golden-ratio.html)\n",
    "- It is strongly associated with the Fibonacci sequence, a series of numbers wherein each number is added to the last. The Fibonacci numbers are 0, 1, 1, 2, 3, 5, 8, 13, 21, and so on, with the ratio of each number and the previous number gradually approaching 1.618, or phi.\n",
    "[test](https://www.adobe.com/creativecloud/design/discover/golden-ratio.html)\n",
    "- The formula for the Fibonacci sequence is $F_{n}=\\frac{(\\frac{1+\\sqrt{5}}{2})^{n}-(\\frac{1-\\sqrt{5}}{2})^{n}}{\\sqrt{5}}$\n",
    ".[test](http://www.milefoot.com/math/discrete/sequences/binetformula.htm#:~:text=The%20explicit%20formula%20for%20the,the%20first%20to%20use%20it.)"
   ]
  },
  {
   "cell_type": "code",
   "execution_count": 12,
   "metadata": {
    "deletable": false,
    "nbgrader": {
     "cell_type": "code",
     "checksum": "a90b54acdd44d2b61a2de82adac73446",
     "grade": true,
     "grade_id": "cell-ce5b5bba1201bbd3",
     "locked": false,
     "points": 0,
     "schema_version": 3,
     "solution": true,
     "task": false
    }
   },
   "outputs": [
    {
     "name": "stdout",
     "output_type": "stream",
     "text": [
      "First 40 fibonacci numbers\n",
      "0\n",
      "1\n",
      "1\n",
      "2\n",
      "3\n",
      "5\n",
      "8\n",
      "13\n",
      "21\n",
      "34\n",
      "55\n",
      "89\n",
      "144\n",
      "233\n",
      "377\n",
      "610\n",
      "987\n",
      "1597\n",
      "2584\n",
      "4181\n",
      "6765\n",
      "10946\n",
      "17711\n",
      "28657\n",
      "46368\n",
      "75025\n",
      "121393\n",
      "196418\n",
      "317811\n",
      "514229\n",
      "832040\n",
      "1346269\n",
      "2178309\n",
      "3524578\n",
      "5702887\n",
      "9227465\n",
      "14930352\n",
      "24157817\n",
      "39088169\n",
      "63245986\n",
      "\n",
      "Golden Ratio\n",
      "[1.0, 2.0, 1.5, 1.6666666666666667, 1.6, 1.625, 1.6153846153846154, 1.619047619047619, 1.6176470588235294, 1.6181818181818182, 1.6179775280898876, 1.6180555555555556, 1.6180257510729614, 1.6180371352785146, 1.618032786885246, 1.618034447821682, 1.6180338134001253, 1.618034055727554, 1.6180339631667064, 1.6180339985218033, 1.618033985017358, 1.6180339901755971, 1.618033988205325, 1.618033988957902, 1.6180339886704431, 1.6180339887802426, 1.618033988738303, 1.6180339887543225, 1.6180339887482036, 1.6180339887505408, 1.6180339887496482, 1.618033988749989, 1.618033988749859, 1.6180339887499087, 1.6180339887498896, 1.618033988749897, 1.618033988749894, 1.6180339887498951, 1.6180339887498947]\n"
     ]
    }
   ],
   "source": [
    "#  Write a program that outputs a vector containing the first 40 Fibonacci numbers $$F_{n+2}=F_n+F_{n+1}, F_1=0, F_2=1.$$\n",
    "# Write a program that outputs a sequence converging to the Golden Ratio.\n",
    "converge=[]\n",
    "\n",
    "print('First 40 fibonacci numbers')\n",
    "\n",
    "def fib():\n",
    "    n1=0\n",
    "    n2=1\n",
    "    \n",
    "    for i in range (0,40):\n",
    "        print (n1)\n",
    "        if n1!=0:\n",
    "            converge.append(goldRatio(n1,n2))\n",
    "        n1, n2= n1+n2, n1\n",
    "        \n",
    "def goldRatio(a,b):\n",
    "    return (a+b)/a\n",
    "fib()\n",
    "print('\\nGolden Ratio')\n",
    "print(converge)"
   ]
  },
  {
   "cell_type": "markdown",
   "metadata": {
    "deletable": false,
    "editable": false,
    "nbgrader": {
     "cell_type": "markdown",
     "checksum": "2bb2949288c0458ac28f2a13a94b9bb8",
     "grade": false,
     "grade_id": "cell-d0a26c4610b14750",
     "locked": true,
     "schema_version": 3,
     "solution": false,
     "task": false
    }
   },
   "source": [
    "# Consider the series \n",
    "$$\\sum_{n=1}^\\infty\\frac{1}{\\sqrt{n}}$$\n",
    "1. Is the above series convergent or divergent? Explain.\n",
    "2. Use an integral bound in order to quantify how fast the series converges/diverges in terms of $n$.\n",
    "3. Write a program that outputs the number of terms that you have to add up from the series in order to exceed the number $20$. Comment on the speed of convergence/divergence of the series."
   ]
  },
  {
   "cell_type": "markdown",
   "metadata": {
    "deletable": false,
    "nbgrader": {
     "cell_type": "markdown",
     "checksum": "6790425fb72c79b7c008b6dfc38c210d",
     "grade": true,
     "grade_id": "cell-2a24654b949d24f3",
     "locked": false,
     "points": 0,
     "schema_version": 3,
     "solution": true,
     "task": false
    }
   },
   "source": [
    "1. Based on the p-series the series above is divergent. p-series states that if we have an equation in $\\frac{1}{n^{p}}$, if p>1, the it converges and it is divergent otherwise. in this case our p=$\\frac{1}{2}$ which is less than 1 so it is divergent.\n",
    "\n",
    "2. $\\epsilon_{n}=|s_{n}-L|<|\\frac{1}{\\sqrt{n+1}}|$\n",
    "\n",
    "Now let's take the integral \n",
    "\n",
    "$\\int_{n+1}^{\\infty} \\frac{1}{\\sqrt{x}}dx \\le L- s_{n}\\le \\int_{n}^{\\infty}\\frac{1}{\\sqrt{x}}dx$\n",
    "\n",
    "$2\\sqrt{x}|_{n+1}^{\\infty}\\le L- s_{n}\\le 2\\sqrt{x}|_{n}^{\\infty} $\n",
    "\n",
    "$2\\sqrt{\\infty}-2\\sqrt{n+1} \\le L- s_{n}\\le 2\\sqrt{\\infty}-2\\sqrt{n} $\n",
    "\n",
    "$\\infty\\le L-s_{n}\\le\\infty$\n",
    "\n",
    "Therefor we can see as n approaches infinity the series blows up."
   ]
  },
  {
   "cell_type": "code",
   "execution_count": 17,
   "metadata": {
    "deletable": false,
    "nbgrader": {
     "cell_type": "code",
     "checksum": "cf7e2340eaa838063a8292ab9add522e",
     "grade": true,
     "grade_id": "cell-bb198abf4ef8c4fb",
     "locked": false,
     "points": 0,
     "schema_version": 3,
     "solution": true,
     "task": false
    }
   },
   "outputs": [
    {
     "name": "stdout",
     "output_type": "stream",
     "text": [
      "3.the first n that makes the partial sum exceed 20 is 115\n",
      "the sum is= 20.03384753488321\n",
      "although this series diverges it does it so slow so we have to add up 116 terms in order to exceed 20\n"
     ]
    }
   ],
   "source": [
    "# YOUR CODE HERE\n",
    "import numpy as np\n",
    "\n",
    "n=1\n",
    "sum=1\n",
    "\n",
    "while sum<20:\n",
    "    n+=1\n",
    "    sum+=1/(np.sqrt(n))\n",
    "    \n",
    "    \n",
    "print('3.the first n that makes the partial sum exceed 20 is',n)\n",
    "print('the sum is=',sum)\n",
    "print(f\"\"\"although this series diverges it does it so slow so we have to add up {n+1} terms in order to exceed 20\"\"\")"
   ]
  },
  {
   "cell_type": "markdown",
   "metadata": {
    "deletable": false,
    "editable": false,
    "nbgrader": {
     "cell_type": "markdown",
     "checksum": "b1dab35ac60b6602e768fff02df4f083",
     "grade": false,
     "grade_id": "cell-84fe8dfe96362bf6",
     "locked": true,
     "schema_version": 3,
     "solution": false,
     "task": false
    }
   },
   "source": [
    "# Prove analytically that the series $\\sum_{n=1}^\\infty\\frac{1}{n^6}=\\frac{\\pi^6}{945}$ converges like a power law and find the power (hint: use an integral error bound.) Programming: Verify your result numerically (make a log-log plot for the error sequence and find the slope of the line. Does it match your analytical result?)."
   ]
  },
  {
   "cell_type": "markdown",
   "metadata": {
    "deletable": false,
    "nbgrader": {
     "cell_type": "markdown",
     "checksum": "6a32e578a5451f5fa045cdf28e6fadc9",
     "grade": true,
     "grade_id": "cell-8e0c1a66140e68f4",
     "locked": false,
     "points": 0,
     "schema_version": 3,
     "solution": true,
     "task": false
    }
   },
   "source": [
    "we use the integral bound to prove that $\\sum_{n=1}^\\infty\\frac{1}{n^6}=\\frac{\\pi^6}{945}$ converges.\n",
    "\n",
    "\n",
    "$\\int_{n+1}^{\\infty} \\frac{1}{x^{6}}dx \\le L- s_{n}\\le \\int_{n}^{\\infty}\\frac{1}{x^{6}}dx$\n",
    "\n",
    "$\\frac{x^{-5}}{-5}|_{n+1}^{\\infty} \\le  L- s_{n}\\le \\frac{x^{-5}}{-5}|_{n}^{\\infty}$\n",
    "\n",
    "$\\frac{-1}{5(\\infty)^5}--\\frac{1}{5(n+1)^5}\\le L- s_{n}\\le \\frac{-1}{5(\\infty)^5}--\\frac{1}{5n^{5}}$\n",
    "\n",
    "$0+\\frac{1}{5(n+1)^5}\\le L- s_{n}\\le 0+\\frac{1}{5n^{5}}$\n",
    "\n",
    "$\\frac{1}{5(n+1)^5}\\le L- s_{n}\\le \\frac{1}{5n^{5}}$\n",
    "\n",
    "$\\frac{1}{5(n+1)^5}\\le \\epsilon_{n} \\le \\frac{1}{5n^{5}}$\n",
    "\n",
    "\n",
    "\n",
    "\n",
    "\n",
    "Conclusion:\n",
    "The sequence of the partial sums $s_{n}\\rightarrow L$ the same way the sequence $(\\frac{1}{5}) \\cdot n^{-5}\\rightarrow 0$.\n",
    "Equivalently, the error sequence $\\epsilon_{n}=L-s_{n} \\rightarrow 0$ the same way the sequence $(\\frac{1}{5}) \\cdot n^{-5}\\rightarrow 0$.\n",
    "So converges is like a power law $n^{\\alpha}$ where $\\alpha = -5$ \n",
    "\n"
   ]
  },
  {
   "cell_type": "code",
   "execution_count": 10,
   "metadata": {
    "deletable": false,
    "nbgrader": {
     "cell_type": "code",
     "checksum": "a2bf1d7ff4770e2d388c46407cf43e63",
     "grade": true,
     "grade_id": "cell-f71fea7ec9719ed6",
     "locked": false,
     "points": 0,
     "schema_version": 3,
     "solution": true,
     "task": false
    }
   },
   "outputs": [
    {
     "name": "stdout",
     "output_type": "stream",
     "text": [
      "Equation of fitted line is y=-4.902522922843248x+-2.140201399802704\n",
      "The error sequence converges to zero like a power law n^-4.902522922843248\n",
      "This programming matches the analytical answer\n"
     ]
    },
    {
     "data": {
      "image/png": "[encoded data removed]",
      "text/plain": [
       "<Figure size 640x480 with 2 Axes>"
      ]
     },
     "metadata": {},
     "output_type": "display_data"
    }
   ],
   "source": [
    "# YOUR CODE HERE\n",
    "import numpy as np\n",
    "import matplotlib.pyplot as plt\n",
    "\n",
    "def a(n):\n",
    "    return (1)/(n**6)\n",
    "\n",
    "n=1\n",
    "L=((np.pi)**6)/945\n",
    "sum=a(1)\n",
    "\n",
    "#initiate an empty list for erros\n",
    "\n",
    "error=[]\n",
    "while abs(sum-L)>0.00000000000001:\n",
    "    error.append(abs(sum-L))\n",
    "    n +=1\n",
    "    sum=sum+ a(n)\n",
    "    if n>1000000:\n",
    "        print('The series has not converged yet')\n",
    "        break\n",
    "        \n",
    "#let's make an error plot then a log-log plot for the error\n",
    "N=range(1,n)        \n",
    "fig, (first, second) = plt.subplots(1, 2)\n",
    "first.plot(error,'k.')\n",
    "second.plot(np.log(N),np.log(error),'k.')\n",
    "\n",
    "# Let's fit a line for through second plot (the second plot looks like a line so the error is a power law)\n",
    "m, b = np.polyfit(np.log(N),np.log(error),1)\n",
    "print(f\"Equation of fitted line is y={m}x+{b}\")\n",
    "second.plot(np.log(N),m*np.log(N)+b,'r')\n",
    "print(f\"The error sequence converges to zero like a power law n^{m}\")\n",
    "print(\"This programming matches the analytical answer\")\n"
   ]
  },
  {
   "cell_type": "markdown",
   "metadata": {
    "deletable": false,
    "editable": false,
    "nbgrader": {
     "cell_type": "markdown",
     "checksum": "cc429af0187cfe8ef65b5672984eee76",
     "grade": false,
     "grade_id": "cell-0ec05a8cc7613ecd",
     "locked": true,
     "schema_version": 3,
     "solution": false,
     "task": false
    }
   },
   "source": [
    "# Alternating series: Decide analytically how many terms of the series $\\sum_{n=1}^\\infty \\frac{(-1)^{n+1}}{\\sqrt{n}}$ will have to be used to be sure the estimate to the sum is accurate to within $0.005$."
   ]
  },
  {
   "cell_type": "markdown",
   "metadata": {
    "deletable": false,
    "nbgrader": {
     "cell_type": "markdown",
     "checksum": "88c45168dfed7a5a87d143fdb6d58b16",
     "grade": true,
     "grade_id": "cell-9296bb709c7ed934",
     "locked": false,
     "points": 0,
     "schema_version": 3,
     "solution": true,
     "task": false
    }
   },
   "source": [
    "$\\sum_{n=1}^\\infty \\frac{(-1)^{n+1}}{\\sqrt{n}}$\n",
    "\n",
    "$a_{n+1}<0.005$\n",
    "\n",
    "$\\frac{1}{\\sqrt{n+1}} <0.005$\n",
    "\n",
    "$1<(0.005)\\cdot(\\sqrt{n+1})$\n",
    "\n",
    "$200<\\sqrt{n+1}$\n",
    "\n",
    "$40000<n+1$\n",
    "\n",
    "$39999<n$\n",
    "\n",
    "We need at least 39999 terms to be sure the estimate to the sum is accurate to within 0.005."
   ]
  },
  {
   "cell_type": "markdown",
   "metadata": {
    "deletable": false,
    "editable": false,
    "nbgrader": {
     "cell_type": "markdown",
     "checksum": "f9498f0cf7d64db033d5745c4925f602",
     "grade": false,
     "grade_id": "cell-c881e2f20a151fa2",
     "locked": true,
     "schema_version": 3,
     "solution": false,
     "task": false
    }
   },
   "source": [
    "# Alternating series: Compute analytically how many terms you would need to use to calculate $\\sum_{n=1}^\\infty\\frac{(-1)^{n+1}}{n^2}$ to within $0.0005$ accuracy. Do you know the limit of this series? Does this series converge like a power law, or some other law? If yes, what is the power?"
   ]
  },
  {
   "cell_type": "markdown",
   "metadata": {
    "deletable": false,
    "nbgrader": {
     "cell_type": "markdown",
     "checksum": "8b4af95a95f5e1c3b11b2a434abea045",
     "grade": true,
     "grade_id": "cell-690e23dbc3cf4f78",
     "locked": false,
     "points": 0,
     "schema_version": 3,
     "solution": true,
     "task": false
    }
   },
   "source": [
    "$\\sum_{n=1}^\\infty\\frac{(-1)^{n+1}}{n^2}$ \n",
    "\n",
    "$a_{n+1}<0.0005$\n",
    "\n",
    "$\\frac{1}{(n+1)^2}<0.0005$\n",
    "\n",
    "$1<(0.0005)\\cdot (n+1)^2$\n",
    "\n",
    "$2000<(n+1)^2$\n",
    "\n",
    "$\\sqrt{2000}<n+1$\n",
    "\n",
    "$20\\sqrt{5}-1<n$\n",
    "\n",
    "In order to be sure that this series will be accurate within 0.0005 we need to add up $20\\sqrt{5}-1<n$ terms which is almost about 43.721.\n",
    "\n",
    "And based on the alternative series test where $b_{n}=\\frac{1}{n^2}$, this series converges. Looking at all different laws we observe that $b_{n}>0, b_{n+1}\\le b_{n}$, and $\\lim_{n\\rightarrow\\infty}b_{n}=0$. Therefore, this series converges like a power series where the power is $n^{-2}$."
   ]
  },
  {
   "cell_type": "code",
   "execution_count": null,
   "metadata": {},
   "outputs": [],
   "source": []
  },
  {
   "cell_type": "code",
   "execution_count": null,
   "metadata": {},
   "outputs": [],
   "source": []
  }
 ],
 "metadata": {
  "kernelspec": {
   "display_name": "Python 3 (ipykernel)",
   "language": "python",
   "name": "python3"
  },
  "language_info": {
   "codemirror_mode": {
    "name": "ipython",
    "version": 3
   },
   "file_extension": ".py",
   "mimetype": "text/x-python",
   "name": "python",
   "nbconvert_exporter": "python",
   "pygments_lexer": "ipython3",
   "version": "3.9.13"
  }
 },
 "nbformat": 4,
 "nbformat_minor": 4
}
